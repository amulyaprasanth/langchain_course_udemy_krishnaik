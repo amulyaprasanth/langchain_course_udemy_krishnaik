{
 "cells": [
  {
   "cell_type": "markdown",
   "id": "1bdc23b0",
   "metadata": {},
   "source": [
    "# Faiss Vector Store"
   ]
  },
  {
   "cell_type": "markdown",
   "id": "0fc3ae7f",
   "metadata": {},
   "source": [
    "## Loading Documents and Text Splitter"
   ]
  },
  {
   "cell_type": "code",
   "execution_count": 1,
   "id": "4035c8e2",
   "metadata": {},
   "outputs": [
    {
     "name": "stderr",
     "output_type": "stream",
     "text": [
      "/home/prasanth/projects/Langchain/venv/lib/python3.10/site-packages/tqdm/auto.py:21: TqdmWarning: IProgress not found. Please update jupyter and ipywidgets. See https://ipywidgets.readthedocs.io/en/stable/user_install.html\n",
      "  from .autonotebook import tqdm as notebook_tqdm\n"
     ]
    }
   ],
   "source": [
    "# import the dataset\n",
    "from langchain_community.document_loaders import TextLoader\n",
    "from langchain_text_splitters import RecursiveCharacterTextSplitter\n",
    "from langchain_ollama import OllamaEmbeddings\n",
    "from langchain_community.vectorstores import FAISS"
   ]
  },
  {
   "cell_type": "code",
   "execution_count": 2,
   "id": "a32434bc",
   "metadata": {},
   "outputs": [],
   "source": [
    "# load the documents\n",
    "loader = TextLoader(\"../data/speech.txt\")\n",
    "\n",
    "docs = loader.load()"
   ]
  },
  {
   "cell_type": "code",
   "execution_count": 3,
   "id": "8dfed382",
   "metadata": {},
   "outputs": [
    {
     "data": {
      "text/plain": [
       "[Document(metadata={'source': '../data/speech.txt'}, page_content='The world must be made safe for democracy. Its peace must be planted upon the tested foundations of political liberty. We have no selfish ends to serve. We desire no conquest, no dominion. We seek no indemnities for ourselves, no material'),\n",
       " Document(metadata={'source': '../data/speech.txt'}, page_content='to serve. We desire no conquest, no dominion. We seek no indemnities for ourselves, no material compensation for the sacrifices we shall freely make. We are but one of the champions of the rights of mankind. We shall be satisfied when those rights'),\n",
       " Document(metadata={'source': '../data/speech.txt'}, page_content='We are but one of the champions of the rights of mankind. We shall be satisfied when those rights have been made as secure as the faith and the freedom of nations can make them.'),\n",
       " Document(metadata={'source': '../data/speech.txt'}, page_content='Just because we fight without rancor and without selfish object, seeking nothing for ourselves but what we shall wish to share with all free peoples, we shall, I feel confident, conduct our operations as belligerents without passion and ourselves'),\n",
       " Document(metadata={'source': '../data/speech.txt'}, page_content='we shall, I feel confident, conduct our operations as belligerents without passion and ourselves observe with proud punctilio the principles of right and of fair play we profess to be fighting for.')]"
      ]
     },
     "execution_count": 3,
     "metadata": {},
     "output_type": "execute_result"
    }
   ],
   "source": [
    "# Split the documents\n",
    "splitter = RecursiveCharacterTextSplitter(chunk_size=250, chunk_overlap=100)\n",
    "split_docs = splitter.split_documents(docs)\n",
    "\n",
    "split_docs[:5]"
   ]
  },
  {
   "cell_type": "markdown",
   "id": "f9b98d3f",
   "metadata": {},
   "source": [
    "## Create Embeddings and Vector Store"
   ]
  },
  {
   "cell_type": "code",
   "execution_count": 4,
   "id": "74323609",
   "metadata": {},
   "outputs": [],
   "source": [
    "embeddings = OllamaEmbeddings(model=\"mistral:7b\")\n",
    "vector_store =  FAISS.from_documents(split_docs, embeddings)"
   ]
  },
  {
   "cell_type": "markdown",
   "id": "cd2a02e9",
   "metadata": {},
   "source": [
    "## Similarity Search"
   ]
  },
  {
   "cell_type": "code",
   "execution_count": 7,
   "id": "cd7235d9",
   "metadata": {},
   "outputs": [
    {
     "data": {
      "text/plain": [
       "[Document(id='65adbb83-ddd8-4fa6-9310-ceeae8792b8b', metadata={'source': '../data/speech.txt'}, page_content='we shall, I feel confident, conduct our operations as belligerents without passion and ourselves observe with proud punctilio the principles of right and of fair play we profess to be fighting for.'),\n",
       " Document(id='8ec67d20-aef1-4133-aa22-1a0bdce717ad', metadata={'source': '../data/speech.txt'}, page_content='…'),\n",
       " Document(id='e9ebe404-9e48-4a34-9a1c-f6f217a9cdc5', metadata={'source': '../data/speech.txt'}, page_content='mind and purpose. If there should be disloyalty, it will be dealt with with a firm hand of stern repression; but, if it lifts its head at all, it will lift it only here and there and without countenance except from a lawless and malignant few.'),\n",
       " Document(id='b7617108-f527-4d99-9924-cceeec733c41', metadata={'source': '../data/speech.txt'}, page_content='Just because we fight without rancor and without selfish object, seeking nothing for ourselves but what we shall wish to share with all free peoples, we shall, I feel confident, conduct our operations as belligerents without passion and ourselves')]"
      ]
     },
     "execution_count": 7,
     "metadata": {},
     "output_type": "execute_result"
    }
   ],
   "source": [
    "# perform similarity search\n",
    "query_result = vector_store.similarity_search(\"What is the consequence of war\")\n",
    "query_result"
   ]
  },
  {
   "cell_type": "code",
   "execution_count": 8,
   "id": "04b18145",
   "metadata": {},
   "outputs": [
    {
     "data": {
      "text/plain": [
       "'we shall, I feel confident, conduct our operations as belligerents without passion and ourselves observe with proud punctilio the principles of right and of fair play we profess to be fighting for.'"
      ]
     },
     "execution_count": 8,
     "metadata": {},
     "output_type": "execute_result"
    }
   ],
   "source": [
    "query_result[0].page_content"
   ]
  },
  {
   "cell_type": "markdown",
   "id": "d5c381ac",
   "metadata": {},
   "source": [
    "## Similarity Search with Score"
   ]
  },
  {
   "cell_type": "code",
   "execution_count": 13,
   "id": "29fb74d8",
   "metadata": {},
   "outputs": [
    {
     "data": {
      "text/plain": [
       "[(Document(id='65adbb83-ddd8-4fa6-9310-ceeae8792b8b', metadata={'source': '../data/speech.txt'}, page_content='we shall, I feel confident, conduct our operations as belligerents without passion and ourselves observe with proud punctilio the principles of right and of fair play we profess to be fighting for.'),\n",
       "  np.float32(1.5426034)),\n",
       " (Document(id='8ec67d20-aef1-4133-aa22-1a0bdce717ad', metadata={'source': '../data/speech.txt'}, page_content='…'),\n",
       "  np.float32(1.6213167)),\n",
       " (Document(id='e9ebe404-9e48-4a34-9a1c-f6f217a9cdc5', metadata={'source': '../data/speech.txt'}, page_content='mind and purpose. If there should be disloyalty, it will be dealt with with a firm hand of stern repression; but, if it lifts its head at all, it will lift it only here and there and without countenance except from a lawless and malignant few.'),\n",
       "  np.float32(1.6549212)),\n",
       " (Document(id='b7617108-f527-4d99-9924-cceeec733c41', metadata={'source': '../data/speech.txt'}, page_content='Just because we fight without rancor and without selfish object, seeking nothing for ourselves but what we shall wish to share with all free peoples, we shall, I feel confident, conduct our operations as belligerents without passion and ourselves'),\n",
       "  np.float32(1.677438))]"
      ]
     },
     "execution_count": 13,
     "metadata": {},
     "output_type": "execute_result"
    }
   ],
   "source": [
    "vector_store.similarity_search_with_score(\"What is the consequence of war\")"
   ]
  },
  {
   "cell_type": "markdown",
   "id": "52a2c2cb",
   "metadata": {},
   "source": [
    "## As a Retriever\n",
    "\n",
    "We can also convert vector store into a retriever class. This allows us to directly use it in other Langchain methods, which largely work with retrievers."
   ]
  },
  {
   "cell_type": "code",
   "execution_count": 11,
   "id": "ee579e64",
   "metadata": {},
   "outputs": [
    {
     "data": {
      "text/plain": [
       "[Document(id='65adbb83-ddd8-4fa6-9310-ceeae8792b8b', metadata={'source': '../data/speech.txt'}, page_content='we shall, I feel confident, conduct our operations as belligerents without passion and ourselves observe with proud punctilio the principles of right and of fair play we profess to be fighting for.'),\n",
       " Document(id='8ec67d20-aef1-4133-aa22-1a0bdce717ad', metadata={'source': '../data/speech.txt'}, page_content='…'),\n",
       " Document(id='e9ebe404-9e48-4a34-9a1c-f6f217a9cdc5', metadata={'source': '../data/speech.txt'}, page_content='mind and purpose. If there should be disloyalty, it will be dealt with with a firm hand of stern repression; but, if it lifts its head at all, it will lift it only here and there and without countenance except from a lawless and malignant few.'),\n",
       " Document(id='b7617108-f527-4d99-9924-cceeec733c41', metadata={'source': '../data/speech.txt'}, page_content='Just because we fight without rancor and without selfish object, seeking nothing for ourselves but what we shall wish to share with all free peoples, we shall, I feel confident, conduct our operations as belligerents without passion and ourselves')]"
      ]
     },
     "execution_count": 11,
     "metadata": {},
     "output_type": "execute_result"
    }
   ],
   "source": [
    "retriever = vector_store.as_retriever()\n",
    "query_result = retriever.invoke(\"What is the consequence of war\")\n",
    "query_result"
   ]
  },
  {
   "cell_type": "code",
   "execution_count": 12,
   "id": "c4d002f3",
   "metadata": {},
   "outputs": [
    {
     "data": {
      "text/plain": [
       "'we shall, I feel confident, conduct our operations as belligerents without passion and ourselves observe with proud punctilio the principles of right and of fair play we profess to be fighting for.'"
      ]
     },
     "execution_count": 12,
     "metadata": {},
     "output_type": "execute_result"
    }
   ],
   "source": [
    "query_result[0].page_content"
   ]
  },
  {
   "cell_type": "markdown",
   "id": "eaa25682",
   "metadata": {},
   "source": [
    "## Save Local"
   ]
  },
  {
   "cell_type": "code",
   "execution_count": 14,
   "id": "b89d3b05",
   "metadata": {},
   "outputs": [],
   "source": [
    "vector_store.save_local(\"faiss_index\")"
   ]
  },
  {
   "cell_type": "markdown",
   "id": "109e7939",
   "metadata": {},
   "source": [
    "## Load Local"
   ]
  },
  {
   "cell_type": "code",
   "execution_count": 17,
   "id": "d0de7a8e",
   "metadata": {},
   "outputs": [
    {
     "data": {
      "text/plain": [
       "<langchain_community.vectorstores.faiss.FAISS at 0x7401c3dddff0>"
      ]
     },
     "execution_count": 17,
     "metadata": {},
     "output_type": "execute_result"
    }
   ],
   "source": [
    "vector_store.load_local(\"faiss_index\", embeddings, allow_dangerous_deserialization=True)"
   ]
  },
  {
   "cell_type": "code",
   "execution_count": 18,
   "id": "bbf673b8",
   "metadata": {},
   "outputs": [
    {
     "data": {
      "text/plain": [
       "[Document(id='65adbb83-ddd8-4fa6-9310-ceeae8792b8b', metadata={'source': '../data/speech.txt'}, page_content='we shall, I feel confident, conduct our operations as belligerents without passion and ourselves observe with proud punctilio the principles of right and of fair play we profess to be fighting for.'),\n",
       " Document(id='8ec67d20-aef1-4133-aa22-1a0bdce717ad', metadata={'source': '../data/speech.txt'}, page_content='…'),\n",
       " Document(id='e9ebe404-9e48-4a34-9a1c-f6f217a9cdc5', metadata={'source': '../data/speech.txt'}, page_content='mind and purpose. If there should be disloyalty, it will be dealt with with a firm hand of stern repression; but, if it lifts its head at all, it will lift it only here and there and without countenance except from a lawless and malignant few.'),\n",
       " Document(id='b7617108-f527-4d99-9924-cceeec733c41', metadata={'source': '../data/speech.txt'}, page_content='Just because we fight without rancor and without selfish object, seeking nothing for ourselves but what we shall wish to share with all free peoples, we shall, I feel confident, conduct our operations as belligerents without passion and ourselves')]"
      ]
     },
     "execution_count": 18,
     "metadata": {},
     "output_type": "execute_result"
    }
   ],
   "source": [
    "vector_store.similarity_search(\"What is the consequence of war\")"
   ]
  },
  {
   "cell_type": "code",
   "execution_count": null,
   "id": "fd7ea7ac",
   "metadata": {},
   "outputs": [],
   "source": []
  }
 ],
 "metadata": {
  "kernelspec": {
   "display_name": "Python 3",
   "language": "python",
   "name": "python3"
  },
  "language_info": {
   "codemirror_mode": {
    "name": "ipython",
    "version": 3
   },
   "file_extension": ".py",
   "mimetype": "text/x-python",
   "name": "python",
   "nbconvert_exporter": "python",
   "pygments_lexer": "ipython3",
   "version": "3.10.0"
  }
 },
 "nbformat": 4,
 "nbformat_minor": 5
}
