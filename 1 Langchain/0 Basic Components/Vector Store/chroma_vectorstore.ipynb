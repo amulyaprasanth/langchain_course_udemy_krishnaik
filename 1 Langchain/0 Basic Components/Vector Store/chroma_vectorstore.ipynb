{
 "cells": [
  {
   "cell_type": "markdown",
   "id": "84de1707",
   "metadata": {},
   "source": [
    "# Chroma Vector Store"
   ]
  },
  {
   "cell_type": "markdown",
   "id": "e8b0e620",
   "metadata": {},
   "source": [
    "## Loading Documents and Text Splitter"
   ]
  },
  {
   "cell_type": "code",
   "execution_count": 1,
   "id": "9e0c5708",
   "metadata": {},
   "outputs": [
    {
     "name": "stderr",
     "output_type": "stream",
     "text": [
      "/home/prasanth/projects/Langchain/venv/lib/python3.10/site-packages/tqdm/auto.py:21: TqdmWarning: IProgress not found. Please update jupyter and ipywidgets. See https://ipywidgets.readthedocs.io/en/stable/user_install.html\n",
      "  from .autonotebook import tqdm as notebook_tqdm\n"
     ]
    }
   ],
   "source": [
    "# import the dataset\n",
    "from langchain_community.document_loaders import TextLoader\n",
    "from langchain_text_splitters import RecursiveCharacterTextSplitter\n",
    "from langchain_ollama import OllamaEmbeddings\n",
    "from langchain_chroma import Chroma"
   ]
  },
  {
   "cell_type": "code",
   "execution_count": 2,
   "id": "88eec758",
   "metadata": {},
   "outputs": [],
   "source": [
    "# load the documents\n",
    "loader = TextLoader(\"../data/speech.txt\")\n",
    "\n",
    "docs = loader.load()"
   ]
  },
  {
   "cell_type": "code",
   "execution_count": 3,
   "id": "2e81567d",
   "metadata": {},
   "outputs": [
    {
     "data": {
      "text/plain": [
       "[Document(metadata={'source': '../data/speech.txt'}, page_content='The world must be made safe for democracy. Its peace must be planted upon the tested foundations of political liberty. We have no selfish ends to serve. We desire no conquest, no dominion. We seek no indemnities for ourselves, no material'),\n",
       " Document(metadata={'source': '../data/speech.txt'}, page_content='to serve. We desire no conquest, no dominion. We seek no indemnities for ourselves, no material compensation for the sacrifices we shall freely make. We are but one of the champions of the rights of mankind. We shall be satisfied when those rights'),\n",
       " Document(metadata={'source': '../data/speech.txt'}, page_content='We are but one of the champions of the rights of mankind. We shall be satisfied when those rights have been made as secure as the faith and the freedom of nations can make them.'),\n",
       " Document(metadata={'source': '../data/speech.txt'}, page_content='Just because we fight without rancor and without selfish object, seeking nothing for ourselves but what we shall wish to share with all free peoples, we shall, I feel confident, conduct our operations as belligerents without passion and ourselves'),\n",
       " Document(metadata={'source': '../data/speech.txt'}, page_content='we shall, I feel confident, conduct our operations as belligerents without passion and ourselves observe with proud punctilio the principles of right and of fair play we profess to be fighting for.')]"
      ]
     },
     "execution_count": 3,
     "metadata": {},
     "output_type": "execute_result"
    }
   ],
   "source": [
    "# Split the documents\n",
    "splitter = RecursiveCharacterTextSplitter(chunk_size=250, chunk_overlap=100)\n",
    "split_docs = splitter.split_documents(docs)\n",
    "\n",
    "split_docs[:5]"
   ]
  },
  {
   "cell_type": "markdown",
   "id": "80dfd910",
   "metadata": {},
   "source": [
    "## Create Embeddings and Vector Store"
   ]
  },
  {
   "cell_type": "code",
   "execution_count": null,
   "id": "e215275a",
   "metadata": {},
   "outputs": [],
   "source": [
    "embeddings = OllamaEmbeddings(model=\"mistral:7b\")\n",
    "db =  Chroma.from_documents(split_docs, embeddings)"
   ]
  },
  {
   "cell_type": "markdown",
   "id": "d4b9bcc8",
   "metadata": {},
   "source": [
    "## Similarity Search}"
   ]
  },
  {
   "cell_type": "code",
   "execution_count": null,
   "id": "e216eb37",
   "metadata": {},
   "outputs": [
    {
     "data": {
      "text/plain": [
       "[Document(id='ca81accb-c519-4235-97ad-a447fa0de9b9', metadata={'source': '../data/speech.txt'}, page_content='we shall, I feel confident, conduct our operations as belligerents without passion and ourselves observe with proud punctilio the principles of right and of fair play we profess to be fighting for.'),\n",
       " Document(id='33414ddc-81c0-46b7-95f6-5c6198d918de', metadata={'source': '../data/speech.txt'}, page_content='…'),\n",
       " Document(id='4dbddef1-523e-4a58-a122-f3b078576f33', metadata={'source': '../data/speech.txt'}, page_content='mind and purpose. If there should be disloyalty, it will be dealt with with a firm hand of stern repression; but, if it lifts its head at all, it will lift it only here and there and without countenance except from a lawless and malignant few.'),\n",
       " Document(id='081eb76a-94f3-4b76-a373-a6d6b7e4b31b', metadata={'source': '../data/speech.txt'}, page_content='Just because we fight without rancor and without selfish object, seeking nothing for ourselves but what we shall wish to share with all free peoples, we shall, I feel confident, conduct our operations as belligerents without passion and ourselves')]"
      ]
     },
     "execution_count": 5,
     "metadata": {},
     "output_type": "execute_result"
    }
   ],
   "source": [
    "# perform similarity search\n",
    "query_result = db.similarity_search(\"What is the consequence of war\") #type:ignore\n",
    "query_result"
   ]
  },
  {
   "cell_type": "code",
   "execution_count": 6,
   "id": "b54b5907",
   "metadata": {},
   "outputs": [
    {
     "data": {
      "text/plain": [
       "'we shall, I feel confident, conduct our operations as belligerents without passion and ourselves observe with proud punctilio the principles of right and of fair play we profess to be fighting for.'"
      ]
     },
     "execution_count": 6,
     "metadata": {},
     "output_type": "execute_result"
    }
   ],
   "source": [
    "query_result[0].page_content"
   ]
  },
  {
   "cell_type": "code",
   "execution_count": 7,
   "id": "d08a4b20",
   "metadata": {},
   "outputs": [
    {
     "data": {
      "text/plain": [
       "[(Document(id='ca81accb-c519-4235-97ad-a447fa0de9b9', metadata={'source': '../data/speech.txt'}, page_content='we shall, I feel confident, conduct our operations as belligerents without passion and ourselves observe with proud punctilio the principles of right and of fair play we profess to be fighting for.'),\n",
       "  1.5426025390625),\n",
       " (Document(id='33414ddc-81c0-46b7-95f6-5c6198d918de', metadata={'source': '../data/speech.txt'}, page_content='…'),\n",
       "  1.6213170289993286),\n",
       " (Document(id='4dbddef1-523e-4a58-a122-f3b078576f33', metadata={'source': '../data/speech.txt'}, page_content='mind and purpose. If there should be disloyalty, it will be dealt with with a firm hand of stern repression; but, if it lifts its head at all, it will lift it only here and there and without countenance except from a lawless and malignant few.'),\n",
       "  1.6549211740493774),\n",
       " (Document(id='081eb76a-94f3-4b76-a373-a6d6b7e4b31b', metadata={'source': '../data/speech.txt'}, page_content='Just because we fight without rancor and without selfish object, seeking nothing for ourselves but what we shall wish to share with all free peoples, we shall, I feel confident, conduct our operations as belligerents without passion and ourselves'),\n",
       "  1.6774382591247559)]"
      ]
     },
     "execution_count": 7,
     "metadata": {},
     "output_type": "execute_result"
    }
   ],
   "source": [
    "db.similarity_search_with_score(\"What is the consequence of war\")"
   ]
  },
  {
   "cell_type": "markdown",
   "id": "6b6efc5a",
   "metadata": {},
   "source": [
    "## As a Retriever"
   ]
  },
  {
   "cell_type": "code",
   "execution_count": 8,
   "id": "b2e4ee75",
   "metadata": {},
   "outputs": [
    {
     "data": {
      "text/plain": [
       "[Document(id='ca81accb-c519-4235-97ad-a447fa0de9b9', metadata={'source': '../data/speech.txt'}, page_content='we shall, I feel confident, conduct our operations as belligerents without passion and ourselves observe with proud punctilio the principles of right and of fair play we profess to be fighting for.'),\n",
       " Document(id='33414ddc-81c0-46b7-95f6-5c6198d918de', metadata={'source': '../data/speech.txt'}, page_content='…'),\n",
       " Document(id='4dbddef1-523e-4a58-a122-f3b078576f33', metadata={'source': '../data/speech.txt'}, page_content='mind and purpose. If there should be disloyalty, it will be dealt with with a firm hand of stern repression; but, if it lifts its head at all, it will lift it only here and there and without countenance except from a lawless and malignant few.'),\n",
       " Document(id='081eb76a-94f3-4b76-a373-a6d6b7e4b31b', metadata={'source': '../data/speech.txt'}, page_content='Just because we fight without rancor and without selfish object, seeking nothing for ourselves but what we shall wish to share with all free peoples, we shall, I feel confident, conduct our operations as belligerents without passion and ourselves')]"
      ]
     },
     "execution_count": 8,
     "metadata": {},
     "output_type": "execute_result"
    }
   ],
   "source": [
    "retriever = db.as_retriever()\n",
    "query_result = retriever.invoke(\"What is the consequence of war\")\n",
    "query_result"
   ]
  },
  {
   "cell_type": "code",
   "execution_count": 9,
   "id": "156d24fd",
   "metadata": {},
   "outputs": [
    {
     "data": {
      "text/plain": [
       "'we shall, I feel confident, conduct our operations as belligerents without passion and ourselves observe with proud punctilio the principles of right and of fair play we profess to be fighting for.'"
      ]
     },
     "execution_count": 9,
     "metadata": {},
     "output_type": "execute_result"
    }
   ],
   "source": [
    "query_result[0].page_content"
   ]
  },
  {
   "cell_type": "markdown",
   "id": "4b1e4407",
   "metadata": {},
   "source": [
    "## Save Local"
   ]
  },
  {
   "cell_type": "code",
   "execution_count": 10,
   "id": "503da2dc",
   "metadata": {},
   "outputs": [],
   "source": [
    "db =  Chroma.from_documents(split_docs, embeddings, persist_directory=\"chroma_db\")"
   ]
  },
  {
   "cell_type": "markdown",
   "id": "97291567",
   "metadata": {},
   "source": [
    "## Load Local"
   ]
  },
  {
   "cell_type": "code",
   "execution_count": 19,
   "id": "4ccb0323",
   "metadata": {},
   "outputs": [],
   "source": [
    "db = Chroma(persist_directory=\"chroma_db\", embedding_function=embeddings)"
   ]
  },
  {
   "cell_type": "code",
   "execution_count": 20,
   "id": "bf940e98",
   "metadata": {},
   "outputs": [
    {
     "data": {
      "text/plain": [
       "[Document(id='d8e4bf0f-2220-4822-aeda-be6877ef7f59', metadata={'source': '../data/speech.txt'}, page_content='we shall, I feel confident, conduct our operations as belligerents without passion and ourselves observe with proud punctilio the principles of right and of fair play we profess to be fighting for.'),\n",
       " Document(id='4999685e-8d45-458f-b031-9607f65c7187', metadata={'source': '../data/speech.txt'}, page_content='…'),\n",
       " Document(id='32556254-de43-42d3-a177-522caa4977ee', metadata={'source': '../data/speech.txt'}, page_content='mind and purpose. If there should be disloyalty, it will be dealt with with a firm hand of stern repression; but, if it lifts its head at all, it will lift it only here and there and without countenance except from a lawless and malignant few.'),\n",
       " Document(id='28452cf4-7e05-4904-8ca6-2ffd1a83a7f3', metadata={'source': '../data/speech.txt'}, page_content='Just because we fight without rancor and without selfish object, seeking nothing for ourselves but what we shall wish to share with all free peoples, we shall, I feel confident, conduct our operations as belligerents without passion and ourselves')]"
      ]
     },
     "execution_count": 20,
     "metadata": {},
     "output_type": "execute_result"
    }
   ],
   "source": [
    "db.similarity_search(\"What is the consequence of war\")"
   ]
  }
 ],
 "metadata": {
  "kernelspec": {
   "display_name": "Python 3",
   "language": "python",
   "name": "python3"
  },
  "language_info": {
   "codemirror_mode": {
    "name": "ipython",
    "version": 3
   },
   "file_extension": ".py",
   "mimetype": "text/x-python",
   "name": "python",
   "nbconvert_exporter": "python",
   "pygments_lexer": "ipython3",
   "version": "3.10.0"
  }
 },
 "nbformat": 4,
 "nbformat_minor": 5
}
