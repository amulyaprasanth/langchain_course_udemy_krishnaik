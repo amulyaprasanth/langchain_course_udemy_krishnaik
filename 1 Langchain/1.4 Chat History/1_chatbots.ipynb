{
 "cells": [
  {
   "cell_type": "markdown",
   "id": "f6d900a4",
   "metadata": {},
   "source": [
    "## Building a Chatbot\n",
    "\n",
    "In this video , we'll go over an example of how to design and implement an LLM-powered chatbot. this chatbot will be able to have a conversation and remember previous interactions.\n",
    "\n",
    "Note that this chatbot we build will only use the language model to have a conversation. There are several other related concepts that you may be looking for:\n",
    "* Conversational RAG : Enable a chatbot experience over an external source of data\n",
    "* Agents: Build a chatbot that can take actions\n",
    "\n",
    "\n",
    "This video tutorial will cover the basics which will be helpful for those two more advanced topics."
   ]
  },
  {
   "cell_type": "code",
   "execution_count": 1,
   "id": "36f7e706",
   "metadata": {},
   "outputs": [],
   "source": [
    "import os\n",
    "from dotenv import load_dotenv\n",
    "load_dotenv() # load all the environment variables\n",
    "\n",
    "groq_api_key = os.getenv(\"GROQ_API_KEY\")\n"
   ]
  },
  {
   "cell_type": "code",
   "execution_count": 2,
   "id": "c1fa5f94",
   "metadata": {},
   "outputs": [
    {
     "data": {
      "text/plain": [
       "ChatGroq(client=<groq.resources.chat.completions.Completions object at 0x7640ef509e40>, async_client=<groq.resources.chat.completions.AsyncCompletions object at 0x7640ef50a4a0>, model_name='gemma2-9b-it')"
      ]
     },
     "execution_count": 2,
     "metadata": {},
     "output_type": "execute_result"
    }
   ],
   "source": [
    "from langchain_groq import ChatGroq\n",
    "\n",
    "model = ChatGroq(model=\"gemma2-9b-it\", groq_api_key=groq_api_key)\n",
    "model"
   ]
  },
  {
   "cell_type": "code",
   "execution_count": 3,
   "id": "24419047",
   "metadata": {},
   "outputs": [
    {
     "data": {
      "text/plain": [
       "AIMessage(content=\"Hello Prasanth! \\n\\nIt's great to meet you. That's a fascinating title! As a Chief AI Engineer, I imagine you're at the forefront of some exciting developments. \\n\\nWhat kind of AI projects are you currently working on?  I'm always eager to learn more about the innovative work being done in the field.\\n\", response_metadata={'token_usage': {'completion_tokens': 75, 'prompt_tokens': 23, 'total_tokens': 98, 'completion_time': 0.136363636, 'prompt_time': 0.001335579, 'queue_time': 0.2490547, 'total_time': 0.137699215}, 'model_name': 'gemma2-9b-it', 'system_fingerprint': 'fp_10c08bf97d', 'finish_reason': 'stop', 'logprobs': None}, id='run-2e9d989d-476c-4a63-85c8-dd24ac5628eb-0', usage_metadata={'input_tokens': 23, 'output_tokens': 75, 'total_tokens': 98})"
      ]
     },
     "execution_count": 3,
     "metadata": {},
     "output_type": "execute_result"
    }
   ],
   "source": [
    "from langchain_core.messages import HumanMessage\n",
    "\n",
    "model.invoke([HumanMessage(content=\"Hi, My name is Prasanth and I am a Chief AI Engineer\")])"
   ]
  },
  {
   "cell_type": "code",
   "execution_count": 4,
   "id": "d82bc8cd",
   "metadata": {},
   "outputs": [
    {
     "data": {
      "text/plain": [
       "AIMessage(content=\"You said your name is Prasanth and that you are a Chief AI Engineer. 😊  \\n\\nIs there anything else you'd like to tell me about yourself or your work? I'm happy to chat! \\n\", response_metadata={'token_usage': {'completion_tokens': 47, 'prompt_tokens': 103, 'total_tokens': 150, 'completion_time': 0.085454545, 'prompt_time': 0.002767598, 'queue_time': 0.257137891, 'total_time': 0.088222143}, 'model_name': 'gemma2-9b-it', 'system_fingerprint': 'fp_10c08bf97d', 'finish_reason': 'stop', 'logprobs': None}, id='run-82f7a290-54d6-4a97-8212-47e80dd3f5bf-0', usage_metadata={'input_tokens': 103, 'output_tokens': 47, 'total_tokens': 150})"
      ]
     },
     "execution_count": 4,
     "metadata": {},
     "output_type": "execute_result"
    }
   ],
   "source": [
    "from langchain_core.messages import AIMessage\n",
    "\n",
    "model.invoke(\n",
    "    [\n",
    "        HumanMessage(content=\"Hi, My name is Prasanth and I am a Chief AI Engineer\"),\n",
    "        AIMessage(content=\"Hello Prasanth,\\n\\nIt's nice to meet you!  \\n\\nAs a Chief AI Engineer, that's a fascinating role. What kind of projects are you working on these days?  \\n\\nI'm always eager to learn more about the cutting edge of AI.\\n\"),\n",
    "        HumanMessage(content=\"Hey, what's my name and what do I do?\")\n",
    "    ]\n",
    ")"
   ]
  },
  {
   "cell_type": "markdown",
   "id": "9b081176",
   "metadata": {},
   "source": [
    "## Message History\n",
    "We can use a Message History class to wrap our model and make it stateful. This will keep track of inputs \n",
    "and outputs of the model, and store them in some datastore, future interactions will then load those messsages and pass them into the chain as part of the input. Let's see how to use this!\n",
    "\n"
   ]
  },
  {
   "cell_type": "code",
   "execution_count": null,
   "id": "0f5f1c0b",
   "metadata": {},
   "outputs": [],
   "source": [
    "# Import chat message history class (in-memory store of messages)\n",
    "from langchain_community.chat_message_histories import ChatMessageHistory\n",
    "# Base class for chat histories (helps enforce type consistency)\n",
    "from langchain_core.chat_history import BaseChatMessageHistory\n",
    "# Wrapper that lets a Runnable (like an LLM) work with conversation memory\n",
    "from langchain_core.runnables.history import RunnableWithMessageHistory\n",
    "\n",
    "# Dictionary to store chat histories for multiple sessions\n",
    "# Keys   -> session_id (string)\n",
    "# Values -> ChatMessageHistory object (conversation memory for that session)\n",
    "store = {}\n",
    "\n",
    "\n",
    "# Function to fetch (or create) the chat history for a given session\n",
    "def get_session_history(session_id: str) -> BaseChatMessageHistory:\n",
    "    if session_id not in store:\n",
    "        # If this session is new, create a fresh history object\n",
    "        # ChatMessageHistory stores HumanMessage/AIMessage automatically\n",
    "        store[session_id] = ChatMessageHistory()\n",
    "    \n",
    "    # Return the history for this session\n",
    "    return store[session_id]\n",
    "\n",
    "\n",
    "# Wrap the model with message history support\n",
    "# - model: your LLM (Runnable, e.g., OpenAI, Groq, etc.)\n",
    "# - get_session_history: function that retrieves the right history for each session\n",
    "with_message_history = RunnableWithMessageHistory(model, get_session_history)\n"
   ]
  },
  {
   "cell_type": "code",
   "execution_count": 16,
   "id": "2a6a06ff",
   "metadata": {},
   "outputs": [],
   "source": [
    "config = {\"configurable\" : {\"session_id\" : \"chat1\"}}"
   ]
  },
  {
   "cell_type": "code",
   "execution_count": 17,
   "id": "6525862b",
   "metadata": {},
   "outputs": [
    {
     "data": {
      "text/plain": [
       "AIMessage(content=\"Hello Prasanth! It's a pleasure to meet you. That's a fascinating title - Chief AI Engineer. What kind of work do you do in that role?  \\n\\nI'm eager to learn more about your experience and expertise in the field of AI.\\n\", response_metadata={'token_usage': {'completion_tokens': 58, 'prompt_tokens': 23, 'total_tokens': 81, 'completion_time': 0.105454545, 'prompt_time': 0.001334719, 'queue_time': 0.254493871, 'total_time': 0.106789264}, 'model_name': 'gemma2-9b-it', 'system_fingerprint': 'fp_10c08bf97d', 'finish_reason': 'stop', 'logprobs': None}, id='run-40e39b56-81a1-427e-964a-6ed84983f21a-0', usage_metadata={'input_tokens': 23, 'output_tokens': 58, 'total_tokens': 81})"
      ]
     },
     "execution_count": 17,
     "metadata": {},
     "output_type": "execute_result"
    }
   ],
   "source": [
    "with_message_history.invoke(\n",
    "    [HumanMessage(content=\"Hi, My name is Prasanth and I am a Chief AI Engineer\")],\n",
    "    config = config\n",
    ")"
   ]
  },
  {
   "cell_type": "code",
   "execution_count": 18,
   "id": "5f45a67f",
   "metadata": {},
   "outputs": [
    {
     "data": {
      "text/plain": [
       "AIMessage(content='Your name is Prasanth.  You told me at the beginning of our conversation! 😊 \\n\\n\\nIs there anything else I can help you with?\\n', response_metadata={'token_usage': {'completion_tokens': 33, 'prompt_tokens': 95, 'total_tokens': 128, 'completion_time': 0.06, 'prompt_time': 0.002604118, 'queue_time': 0.254511362, 'total_time': 0.062604118}, 'model_name': 'gemma2-9b-it', 'system_fingerprint': 'fp_10c08bf97d', 'finish_reason': 'stop', 'logprobs': None}, id='run-84b5f74c-0f97-4d97-b0b9-e4527711e7e4-0', usage_metadata={'input_tokens': 95, 'output_tokens': 33, 'total_tokens': 128})"
      ]
     },
     "execution_count": 18,
     "metadata": {},
     "output_type": "execute_result"
    }
   ],
   "source": [
    "with_message_history.invoke(\n",
    "    [HumanMessage(content=\"What's my name?\")],\n",
    "    config=config,\n",
    ")"
   ]
  },
  {
   "cell_type": "code",
   "execution_count": 19,
   "id": "c02a5dd9",
   "metadata": {},
   "outputs": [
    {
     "data": {
      "text/plain": [
       "\"As an AI, I have no memory of past conversations and no way of knowing your name. If you'd like to tell me, I'd be happy to know! 😊\\n\""
      ]
     },
     "execution_count": 19,
     "metadata": {},
     "output_type": "execute_result"
    }
   ],
   "source": [
    "## change the config-->session id\n",
    "config1={\"configurable\":{\"session_id\":\"chat2\"}}\n",
    "response=with_message_history.invoke(\n",
    "    [HumanMessage(content=\"Whats my name\")],\n",
    "    config=config1\n",
    ")\n",
    "response.content"
   ]
  },
  {
   "cell_type": "code",
   "execution_count": 20,
   "id": "4a0a664d",
   "metadata": {},
   "outputs": [
    {
     "data": {
      "text/plain": [
       "'Hi John!  Nice to meet you. 👋 \\n\\nIs there anything I can help you with today?\\n'"
      ]
     },
     "execution_count": 20,
     "metadata": {},
     "output_type": "execute_result"
    }
   ],
   "source": [
    "response=with_message_history.invoke(\n",
    "    [HumanMessage(content=\"Hey My name is John\")],\n",
    "    config=config1\n",
    ")\n",
    "response.content"
   ]
  },
  {
   "cell_type": "code",
   "execution_count": 21,
   "id": "84869e02",
   "metadata": {},
   "outputs": [
    {
     "data": {
      "text/plain": [
       "'Your name is John! 😊  \\n\\nI remember that you told me earlier.  \\n\\n\\n\\n'"
      ]
     },
     "execution_count": 21,
     "metadata": {},
     "output_type": "execute_result"
    }
   ],
   "source": [
    "config1={\"configurable\":{\"session_id\":\"chat2\"}}\n",
    "response=with_message_history.invoke(\n",
    "    [HumanMessage(content=\"Whats my name\")],\n",
    "    config=config1\n",
    ")\n",
    "response.content"
   ]
  },
  {
   "cell_type": "markdown",
   "id": "53ebb0bf",
   "metadata": {},
   "source": [
    "### Prompt Template\n",
    "\n",
    "\n",
    "Prompt Templates help to turn raw user information into a foramt that the LLM can work with. In this case, the raw user input is just a message, which are passing to the LLM. Let's now make that a bit more complicated. First let's add a system message with some custom instructions (but still taking messages as input). Next, we'll add more input besides just the messages."
   ]
  },
  {
   "cell_type": "code",
   "execution_count": null,
   "id": "f2566136",
   "metadata": {},
   "outputs": [],
   "source": [
    "from langchain_core.prompts import ChatPromptTemplate, MessagesPlaceholder\n",
    "\n",
    "prompt = ChatPromptTemplate.from_messages(\n",
    "    [\n",
    "        (\"system\", \"you are a helpfule assistant. Answer all the questions to the best of your ability\"),\n",
    "        MessagesPlaceholder(variable_name=\"messages\")\n",
    "    ]\n",
    ")\n",
    "\n",
    "chain = prompt | model"
   ]
  },
  {
   "cell_type": "code",
   "execution_count": 25,
   "id": "8f47eecd",
   "metadata": {},
   "outputs": [
    {
     "data": {
      "text/plain": [
       "AIMessage(content=\"Hello Prasanth, it's nice to meet you! \\n\\nI'm happy to help with any questions you have.  What can I do for you today?  \\n\\n\", response_metadata={'token_usage': {'completion_tokens': 40, 'prompt_tokens': 34, 'total_tokens': 74, 'completion_time': 0.072727273, 'prompt_time': 0.00148219, 'queue_time': 0.252544609, 'total_time': 0.074209463}, 'model_name': 'gemma2-9b-it', 'system_fingerprint': 'fp_10c08bf97d', 'finish_reason': 'stop', 'logprobs': None}, id='run-7e7b4602-7ac9-4c1d-a3aa-1ac3ce4a81b7-0', usage_metadata={'input_tokens': 34, 'output_tokens': 40, 'total_tokens': 74})"
      ]
     },
     "execution_count": 25,
     "metadata": {},
     "output_type": "execute_result"
    }
   ],
   "source": [
    "# As we already create messages as a variable name as placeholder, here we need to pass messsages as a key\n",
    "chain.invoke({\"messages\":  [HumanMessage(content=\"Hi, My name is Prasanth\")]})"
   ]
  },
  {
   "cell_type": "code",
   "execution_count": 26,
   "id": "b1424713",
   "metadata": {},
   "outputs": [],
   "source": [
    "with_message_history = RunnableWithMessageHistory(chain, get_session_history)"
   ]
  },
  {
   "cell_type": "code",
   "execution_count": 30,
   "id": "2ed7da78",
   "metadata": {},
   "outputs": [
    {
     "data": {
      "text/plain": [
       "AIMessage(content=\"Hi Prasanth! \\n\\nIt's great to meet you too.  What can I do for you today? 😄  \\n\", response_metadata={'token_usage': {'completion_tokens': 29, 'prompt_tokens': 72, 'total_tokens': 101, 'completion_time': 0.052727273, 'prompt_time': 0.002293939, 'queue_time': 0.25863482, 'total_time': 0.055021212}, 'model_name': 'gemma2-9b-it', 'system_fingerprint': 'fp_10c08bf97d', 'finish_reason': 'stop', 'logprobs': None}, id='run-ced17e1f-8cf4-4c7e-9422-44e33486cfee-0', usage_metadata={'input_tokens': 72, 'output_tokens': 29, 'total_tokens': 101})"
      ]
     },
     "execution_count": 30,
     "metadata": {},
     "output_type": "execute_result"
    }
   ],
   "source": [
    "config = {\"configurable\": {\"session_id\": \"chat3\"}}\n",
    "response=with_message_history.invoke(\n",
    "    [HumanMessage(content=\"Hi My name is prasanth\")],\n",
    "    config=config\n",
    ")\n",
    "\n",
    "response"
   ]
  },
  {
   "cell_type": "code",
   "execution_count": 32,
   "id": "d8e3d1f4",
   "metadata": {},
   "outputs": [
    {
     "data": {
      "text/plain": [
       "\"Your name is Prasanth! 😊 \\n\\n\\nLet me know if you have any other questions. I'm here to help!\\n\""
      ]
     },
     "execution_count": 32,
     "metadata": {},
     "output_type": "execute_result"
    }
   ],
   "source": [
    "config={\"configurable\":{\"session_id\":\"chat3\"}}\n",
    "\n",
    "response = with_message_history.invoke(\n",
    "    [\n",
    "        HumanMessage(content=\"what's my name\")\n",
    "    ],\n",
    "    config = config\n",
    ")\n",
    "\n",
    "response.content"
   ]
  },
  {
   "cell_type": "code",
   "execution_count": 33,
   "id": "5c7b4e75",
   "metadata": {},
   "outputs": [],
   "source": [
    "## Add more complexity\n",
    "\n",
    "prompt = ChatPromptTemplate.from_messages(\n",
    "    [\n",
    "        (\n",
    "            \"system\",\n",
    "            \"You are a helpful assistant. Answer all questions to the best of your ability in {language}.\",\n",
    "        ),\n",
    "        MessagesPlaceholder(variable_name=\"messages\"),\n",
    "    ]\n",
    ")\n",
    "\n",
    "chain = prompt | model"
   ]
  },
  {
   "cell_type": "code",
   "execution_count": 37,
   "id": "1166d99e",
   "metadata": {},
   "outputs": [
    {
     "data": {
      "text/plain": [
       "'నమస్తే ప్రశాంత్! 😊  \\n\\nమీకు ఎలా సహాయం చేయగలను? \\n'"
      ]
     },
     "execution_count": 37,
     "metadata": {},
     "output_type": "execute_result"
    }
   ],
   "source": [
    "response = chain.invoke({\"messages\": [HumanMessage(content=\"Hi My name is prasanth\")], \"language\": \"telugu\"})\n",
    "response.content"
   ]
  },
  {
   "cell_type": "markdown",
   "id": "436b2779",
   "metadata": {},
   "source": [
    "Let's now wrap this more complicated chain in a Message History class. This time, because there are multiple keys in the input, we need to specify the correct key to use to save the chat history.\n"
   ]
  },
  {
   "cell_type": "code",
   "execution_count": null,
   "id": "cf5d45f4",
   "metadata": {},
   "outputs": [],
   "source": [
    "with_message_history = RunnableWithMessageHistory(chain, get_session_history, input_messages_key=\"messages\")"
   ]
  },
  {
   "cell_type": "code",
   "execution_count": 39,
   "id": "2c4f6eba",
   "metadata": {},
   "outputs": [
    {
     "data": {
      "text/plain": [
       "'మీకు నమస్కారం, ప్రశాంత్! 😊 \\n\\nనేను మీకు సహాయకరమైన సహాయకుడిని. ఏవేదో ప్రశ్నించండి, నా సోదరుడిగానే సమాధానాలు ఇస్తాను.  \\n\\n'"
      ]
     },
     "execution_count": 39,
     "metadata": {},
     "output_type": "execute_result"
    }
   ],
   "source": [
    "config = {\"configurable\": {\"session_id\": \"chat4\"}}\n",
    "repsonse=with_message_history.invoke(\n",
    "    {'messages': [HumanMessage(content=\"Hi,I am prasanth\")],\"language\":\"Telugu\"},\n",
    "    config=config\n",
    ")\n",
    "repsonse.content"
   ]
  },
  {
   "cell_type": "markdown",
   "id": "98aff9b9",
   "metadata": {},
   "source": [
    "## Managing the Conversation History\n",
    "\n",
    "One important concept to understand when building chatbots is how to manage conversation history. if left unmanaged, the list of messages will go unbounded and potentially overflow the context window of the LLM. Therefore, it is important to add a step that limits the size of messages you are passing in.\n",
    "\n",
    "`trim_messages`: helper to reduce how many messages we're sending to the model. the trimmer allows us to specify how many tokens we want to keep, along with other parameters like if we want to always keep the system messages and whether to allow partial messages"
   ]
  },
  {
   "cell_type": "code",
   "execution_count": 44,
   "id": "7e440a56",
   "metadata": {},
   "outputs": [
    {
     "data": {
      "text/plain": [
       "[SystemMessage(content=\"you're a good assistant\"),\n",
       " HumanMessage(content=\"hi! I'm bob\"),\n",
       " AIMessage(content='hi!'),\n",
       " HumanMessage(content='I like vanilla ice cream'),\n",
       " AIMessage(content='nice'),\n",
       " HumanMessage(content='whats 2 + 2'),\n",
       " AIMessage(content='4'),\n",
       " HumanMessage(content='thanks'),\n",
       " AIMessage(content='no problem!'),\n",
       " HumanMessage(content='having fun?'),\n",
       " AIMessage(content='yes!')]"
      ]
     },
     "execution_count": 44,
     "metadata": {},
     "output_type": "execute_result"
    }
   ],
   "source": [
    "from langchain_core.messages import SystemMessage, trim_messages\n",
    "trimmer = trim_messages(\n",
    "    max_tokens=70,\n",
    "    strategy=\"last\",\n",
    "    token_counter=model,\n",
    "    include_system=True,\n",
    "    allow_partial=False,\n",
    "    start_on=\"human\"\n",
    ")\n",
    "\n",
    "\n",
    "messages = [\n",
    "    SystemMessage(content=\"you're a good assistant\"),\n",
    "    HumanMessage(content=\"hi! I'm bob\"),\n",
    "    AIMessage(content=\"hi!\"),\n",
    "    HumanMessage(content=\"I like vanilla ice cream\"),\n",
    "    AIMessage(content=\"nice\"),\n",
    "    HumanMessage(content=\"whats 2 + 2\"),\n",
    "    AIMessage(content=\"4\"),\n",
    "    HumanMessage(content=\"thanks\"),\n",
    "    AIMessage(content=\"no problem!\"),\n",
    "    HumanMessage(content=\"having fun?\"),\n",
    "    AIMessage(content=\"yes!\"),\n",
    "]\n",
    "trimmer.invoke(messages)"
   ]
  },
  {
   "cell_type": "code",
   "execution_count": 45,
   "id": "22cb58bf",
   "metadata": {},
   "outputs": [
    {
     "data": {
      "text/plain": [
       "AIMessage(content='You said you like vanilla ice cream! 😊 🍦  \\n\\n\\n\\n', response_metadata={'token_usage': {'completion_tokens': 15, 'prompt_tokens': 121, 'total_tokens': 136, 'completion_time': 0.027272727, 'prompt_time': 0.003295578, 'queue_time': 0.250771461, 'total_time': 0.030568305}, 'model_name': 'gemma2-9b-it', 'system_fingerprint': 'fp_10c08bf97d', 'finish_reason': 'stop', 'logprobs': None}, id='run-bd1ab339-55df-40eb-9981-f824896a9164-0', usage_metadata={'input_tokens': 121, 'output_tokens': 15, 'total_tokens': 136})"
      ]
     },
     "execution_count": 45,
     "metadata": {},
     "output_type": "execute_result"
    }
   ],
   "source": [
    "from operator import itemgetter\n",
    "\n",
    "from langchain_core.runnables import RunnablePassthrough\n",
    "\n",
    "chain = (\n",
    "    RunnablePassthrough.assign(messages=itemgetter(\"messages\")|trimmer)\n",
    "    | prompt\n",
    "    | model\n",
    ")\n",
    "\n",
    "chain.invoke(\n",
    "    {\n",
    "        \"messages\": messages + [HumanMessage(content=\"what ice cream do i like?\")],\n",
    "        \"language\": \"English\"\n",
    "    }\n",
    ")"
   ]
  },
  {
   "cell_type": "code",
   "execution_count": 46,
   "id": "018bb8ef",
   "metadata": {},
   "outputs": [],
   "source": [
    "## Lets wrap this in the MEssage History\n",
    "with_message_history = RunnableWithMessageHistory(\n",
    "    chain,\n",
    "    get_session_history,\n",
    "    input_messages_key=\"messages\",\n",
    ")\n",
    "config={\"configurable\":{\"session_id\":\"chat5\"}}"
   ]
  },
  {
   "cell_type": "code",
   "execution_count": 47,
   "id": "8a227382",
   "metadata": {},
   "outputs": [
    {
     "data": {
      "text/plain": [
       "'Your name is Bob, you told me earlier! 😊  \\n'"
      ]
     },
     "execution_count": 47,
     "metadata": {},
     "output_type": "execute_result"
    }
   ],
   "source": [
    "response = with_message_history.invoke(\n",
    "    {\n",
    "        \"messages\": messages + [HumanMessage(content=\"whats my name?\")],\n",
    "        \"language\": \"English\",\n",
    "    },\n",
    "    config=config,\n",
    ")\n",
    "\n",
    "response.content"
   ]
  },
  {
   "cell_type": "code",
   "execution_count": null,
   "id": "b6e3abe6",
   "metadata": {},
   "outputs": [],
   "source": []
  }
 ],
 "metadata": {
  "kernelspec": {
   "display_name": "Python 3",
   "language": "python",
   "name": "python3"
  },
  "language_info": {
   "codemirror_mode": {
    "name": "ipython",
    "version": 3
   },
   "file_extension": ".py",
   "mimetype": "text/x-python",
   "name": "python",
   "nbconvert_exporter": "python",
   "pygments_lexer": "ipython3",
   "version": "3.10.0"
  }
 },
 "nbformat": 4,
 "nbformat_minor": 5
}
